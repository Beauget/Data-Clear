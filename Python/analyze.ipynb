{
 "cells": [
  {
   "cell_type": "code",
   "execution_count": 2,
   "id": "average-fever",
   "metadata": {
    "scrolled": true
   },
   "outputs": [
    {
     "name": "stdout",
     "output_type": "stream",
     "text": [
      "                                                Prénom              Nom\n",
      "0    {B->\"Mrs. Tyrell William (Julia Florence Siegel)\"  A->\"Cavendish\"}\n",
      "1                                {B->\"Mr. Peter Henry\"     A->\"Renouf\"}\n",
      "2                                   {B->\"Mr. Albert A\"    A->\"Stewart\"}\n",
      "3                      {B->\"Mr. John Irwin ('Irving')\"      A->\"Flynn\"}\n",
      "4                            {B->\"Mr. Frederic Kimber\"     A->\"Seward\"}\n",
      "..                                                 ...              ...\n",
      "593                            {B->\"Mr. Arthur Larned\"    A->\"Ryerson\"}\n",
      "594               {B->\"Mrs. Carl Johan (Sigrid Posse)\"  A->\"Lindstrom\"}\n",
      "595                                     {B->\"Mr. Emil\"    A->\"Taussig\"}\n",
      "596                            {B->\"Mr. Francis Davis\"     A->\"Millet\"}\n",
      "597                             {B->\"Mr. Elmer Zebley\"     A->\"Taylor\"}\n",
      "\n",
      "[598 rows x 2 columns]\n"
     ]
    }
   ],
   "source": [
    "import pandas as pd\n",
    "import seaborn as sns\n",
    "\n",
    "\n",
    "#Récupération des données \n",
    "dataframe = pd.read_csv(\"Query.csv\")\n",
    "\n",
    "dataframe.columns = [\"Prénom\",\"Nom\"]\n",
    "\n",
    "print(dataframe)\n"
   ]
  },
  {
   "cell_type": "code",
   "execution_count": null,
   "id": "determined-camcorder",
   "metadata": {},
   "outputs": [],
   "source": []
  },
  {
   "cell_type": "code",
   "execution_count": null,
   "id": "harmful-harassment",
   "metadata": {},
   "outputs": [],
   "source": []
  }
 ],
 "metadata": {
  "kernelspec": {
   "display_name": "Python 3",
   "language": "python",
   "name": "python3"
  },
  "language_info": {
   "codemirror_mode": {
    "name": "ipython",
    "version": 3
   },
   "file_extension": ".py",
   "mimetype": "text/x-python",
   "name": "python",
   "nbconvert_exporter": "python",
   "pygments_lexer": "ipython3",
   "version": "3.8.8"
  }
 },
 "nbformat": 4,
 "nbformat_minor": 5
}
