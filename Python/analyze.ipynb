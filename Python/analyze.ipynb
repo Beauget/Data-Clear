{
 "cells": [
  {
   "cell_type": "markdown",
   "id": "designed-princeton",
   "metadata": {
    "scrolled": true
   },
   "source": [
    "# Analyse des données extraite via Graal"
   ]
  },
  {
   "cell_type": "markdown",
   "metadata": {},
   "source": [
    "## Ouverture de data.csv et insertion dans df"
   ]
  },
  {
   "cell_type": "code",
   "execution_count": 125,
   "id": "determined-camcorder",
   "metadata": {},
   "outputs": [
    {
     "data": {
      "text/html": [
       "<div>\n",
       "<style scoped>\n",
       "    .dataframe tbody tr th:only-of-type {\n",
       "        vertical-align: middle;\n",
       "    }\n",
       "\n",
       "    .dataframe tbody tr th {\n",
       "        vertical-align: top;\n",
       "    }\n",
       "\n",
       "    .dataframe thead th {\n",
       "        text-align: right;\n",
       "    }\n",
       "</style>\n",
       "<table border=\"1\" class=\"dataframe\">\n",
       "  <thead>\n",
       "    <tr style=\"text-align: right;\">\n",
       "      <th></th>\n",
       "      <th>boat</th>\n",
       "      <th>embarked</th>\n",
       "      <th>sex</th>\n",
       "      <th>age</th>\n",
       "      <th>firstname</th>\n",
       "      <th>lastname</th>\n",
       "      <th>parch</th>\n",
       "      <th>sibsp</th>\n",
       "      <th>ticket</th>\n",
       "      <th>pclass</th>\n",
       "    </tr>\n",
       "  </thead>\n",
       "  <tbody>\n",
       "    <tr>\n",
       "      <th>0</th>\n",
       "      <td>NaN</td>\n",
       "      <td>S</td>\n",
       "      <td>male</td>\n",
       "      <td>NaN</td>\n",
       "      <td>Mr. Ingvald Olai Olsen</td>\n",
       "      <td>Hagland</td>\n",
       "      <td>0</td>\n",
       "      <td>1</td>\n",
       "      <td>65303</td>\n",
       "      <td>3</td>\n",
       "    </tr>\n",
       "    <tr>\n",
       "      <th>1</th>\n",
       "      <td>NaN</td>\n",
       "      <td>S</td>\n",
       "      <td>female</td>\n",
       "      <td>8.0</td>\n",
       "      <td>Miss. Torborg Danira</td>\n",
       "      <td>Palsson</td>\n",
       "      <td>1</td>\n",
       "      <td>3</td>\n",
       "      <td>349909</td>\n",
       "      <td>3</td>\n",
       "    </tr>\n",
       "    <tr>\n",
       "      <th>2</th>\n",
       "      <td>11</td>\n",
       "      <td>NaN</td>\n",
       "      <td>female</td>\n",
       "      <td>22.0</td>\n",
       "      <td>Miss. Alice</td>\n",
       "      <td>Cleaver</td>\n",
       "      <td>0</td>\n",
       "      <td>0</td>\n",
       "      <td>113781</td>\n",
       "      <td>1</td>\n",
       "    </tr>\n",
       "    <tr>\n",
       "      <th>3</th>\n",
       "      <td>9</td>\n",
       "      <td>NaN</td>\n",
       "      <td>female</td>\n",
       "      <td>24.0</td>\n",
       "      <td>Miss. Alice</td>\n",
       "      <td>Herman</td>\n",
       "      <td>2.0</td>\n",
       "      <td>1.0</td>\n",
       "      <td>220845</td>\n",
       "      <td>2</td>\n",
       "    </tr>\n",
       "    <tr>\n",
       "      <th>4</th>\n",
       "      <td>NaN</td>\n",
       "      <td>S</td>\n",
       "      <td>male</td>\n",
       "      <td>20.0</td>\n",
       "      <td>Mr. Domingos Fernandeo</td>\n",
       "      <td>Coelho</td>\n",
       "      <td>0</td>\n",
       "      <td>0</td>\n",
       "      <td>SOTON/O.Q. 3101307</td>\n",
       "      <td>3</td>\n",
       "    </tr>\n",
       "  </tbody>\n",
       "</table>\n",
       "</div>"
      ],
      "text/plain": [
       "  boat embarked     sex   age               firstname lastname parch sibsp  \\\n",
       "0  NaN        S    male   NaN  Mr. Ingvald Olai Olsen  Hagland     0     1   \n",
       "1  NaN        S  female   8.0    Miss. Torborg Danira  Palsson     1     3   \n",
       "2   11      NaN  female  22.0             Miss. Alice  Cleaver     0     0   \n",
       "3    9      NaN  female  24.0             Miss. Alice   Herman   2.0   1.0   \n",
       "4  NaN        S    male  20.0  Mr. Domingos Fernandeo   Coelho     0     0   \n",
       "\n",
       "               ticket pclass  \n",
       "0               65303      3  \n",
       "1              349909      3  \n",
       "2              113781      1  \n",
       "3              220845      2  \n",
       "4  SOTON/O.Q. 3101307      3  "
      ]
     },
     "execution_count": 125,
     "metadata": {},
     "output_type": "execute_result"
    }
   ],
   "source": [
    "import pandas as pd\n",
    "import numpy as np\n",
    "import seaborn as sns\n",
    "import re\n",
    "import matplotlib.pyplot as plt\n",
    "#Fonction pour clean le data (le plus générale possible)\n",
    "def cleanData(df,columns,vide):\n",
    "    #on ajoute le header\n",
    "    df.columns =columns\n",
    "    #On récupère que les valeurs entre guillemets\n",
    "    df= df.applymap(lambda x: re.search(r'(^.*\"(.*)\\\")',str(x)).group(2))\n",
    "\n",
    "    #Passage NaN au valeur aillant le mot vide\n",
    "    for column in df.columns[0:]:\n",
    "        df.loc[df[column]==vide,column]=np.nan\n",
    "    return df\n",
    "\n",
    "\n",
    "        \n",
    "#on transforme en dataframe\n",
    "df = pd.read_csv(\"data.csv\", header=None)\n",
    "#Définition du header\n",
    "columns = [\"boat\",\"embarked\",\"sex\",\"age\",\"firstname\",\"lastname\",\"parch\",\"sibsp\",\"ticket\",\"pclass\"]    \n",
    "#indication du mot vide (modulable selon si c'est ?, Unknown,null, NULL etc)\n",
    "vide = 'null'\n",
    "\n",
    "df = cleanData(df,columns,vide)\n",
    "df.head()\n"
   ]
  },
  {
   "cell_type": "markdown",
   "metadata": {},
   "source": [
    "## Ouverture de check.csv"
   ]
  },
  {
   "cell_type": "code",
   "execution_count": 126,
   "id": "harmful-harassment",
   "metadata": {
    "scrolled": true
   },
   "outputs": [],
   "source": [
    "dfSurvived = pd.read_csv(\"check.csv\", header=None)\n",
    "columns = [\"firstname\",\"lastname\",\"survived\"]   \n",
    "dfSurvived = cleanData(dfSurvived,columns,vide)"
   ]
  },
  {
   "cell_type": "markdown",
   "metadata": {},
   "source": [
    "## Fusion"
   ]
  },
  {
   "cell_type": "code",
   "execution_count": 127,
   "metadata": {},
   "outputs": [
    {
     "data": {
      "text/html": [
       "<div>\n",
       "<style scoped>\n",
       "    .dataframe tbody tr th:only-of-type {\n",
       "        vertical-align: middle;\n",
       "    }\n",
       "\n",
       "    .dataframe tbody tr th {\n",
       "        vertical-align: top;\n",
       "    }\n",
       "\n",
       "    .dataframe thead th {\n",
       "        text-align: right;\n",
       "    }\n",
       "</style>\n",
       "<table border=\"1\" class=\"dataframe\">\n",
       "  <thead>\n",
       "    <tr style=\"text-align: right;\">\n",
       "      <th></th>\n",
       "      <th>boat</th>\n",
       "      <th>embarked</th>\n",
       "      <th>sex</th>\n",
       "      <th>age</th>\n",
       "      <th>firstname</th>\n",
       "      <th>lastname</th>\n",
       "      <th>parch</th>\n",
       "      <th>sibsp</th>\n",
       "      <th>ticket</th>\n",
       "      <th>pclass</th>\n",
       "      <th>survived</th>\n",
       "    </tr>\n",
       "  </thead>\n",
       "  <tbody>\n",
       "    <tr>\n",
       "      <th>0</th>\n",
       "      <td>NaN</td>\n",
       "      <td>S</td>\n",
       "      <td>male</td>\n",
       "      <td>NaN</td>\n",
       "      <td>Mr. Ingvald Olai Olsen</td>\n",
       "      <td>Hagland</td>\n",
       "      <td>0</td>\n",
       "      <td>1</td>\n",
       "      <td>65303</td>\n",
       "      <td>3</td>\n",
       "      <td>0</td>\n",
       "    </tr>\n",
       "    <tr>\n",
       "      <th>1</th>\n",
       "      <td>NaN</td>\n",
       "      <td>S</td>\n",
       "      <td>female</td>\n",
       "      <td>8.0</td>\n",
       "      <td>Miss. Torborg Danira</td>\n",
       "      <td>Palsson</td>\n",
       "      <td>1</td>\n",
       "      <td>3</td>\n",
       "      <td>349909</td>\n",
       "      <td>3</td>\n",
       "      <td>0</td>\n",
       "    </tr>\n",
       "    <tr>\n",
       "      <th>2</th>\n",
       "      <td>11</td>\n",
       "      <td>NaN</td>\n",
       "      <td>female</td>\n",
       "      <td>22.0</td>\n",
       "      <td>Miss. Alice</td>\n",
       "      <td>Cleaver</td>\n",
       "      <td>0</td>\n",
       "      <td>0</td>\n",
       "      <td>113781</td>\n",
       "      <td>1</td>\n",
       "      <td>1</td>\n",
       "    </tr>\n",
       "    <tr>\n",
       "      <th>3</th>\n",
       "      <td>9</td>\n",
       "      <td>NaN</td>\n",
       "      <td>female</td>\n",
       "      <td>24.0</td>\n",
       "      <td>Miss. Alice</td>\n",
       "      <td>Herman</td>\n",
       "      <td>2.0</td>\n",
       "      <td>1.0</td>\n",
       "      <td>220845</td>\n",
       "      <td>2</td>\n",
       "      <td>1</td>\n",
       "    </tr>\n",
       "    <tr>\n",
       "      <th>4</th>\n",
       "      <td>NaN</td>\n",
       "      <td>S</td>\n",
       "      <td>male</td>\n",
       "      <td>20.0</td>\n",
       "      <td>Mr. Domingos Fernandeo</td>\n",
       "      <td>Coelho</td>\n",
       "      <td>0</td>\n",
       "      <td>0</td>\n",
       "      <td>SOTON/O.Q. 3101307</td>\n",
       "      <td>3</td>\n",
       "      <td>0</td>\n",
       "    </tr>\n",
       "  </tbody>\n",
       "</table>\n",
       "</div>"
      ],
      "text/plain": [
       "  boat embarked     sex   age               firstname lastname parch sibsp  \\\n",
       "0  NaN        S    male   NaN  Mr. Ingvald Olai Olsen  Hagland     0     1   \n",
       "1  NaN        S  female   8.0    Miss. Torborg Danira  Palsson     1     3   \n",
       "2   11      NaN  female  22.0             Miss. Alice  Cleaver     0     0   \n",
       "3    9      NaN  female  24.0             Miss. Alice   Herman   2.0   1.0   \n",
       "4  NaN        S    male  20.0  Mr. Domingos Fernandeo   Coelho     0     0   \n",
       "\n",
       "               ticket pclass survived  \n",
       "0               65303      3        0  \n",
       "1              349909      3        0  \n",
       "2              113781      1        1  \n",
       "3              220845      2        1  \n",
       "4  SOTON/O.Q. 3101307      3        0  "
      ]
     },
     "execution_count": 127,
     "metadata": {},
     "output_type": "execute_result"
    }
   ],
   "source": [
    "df = pd.merge(df,dfSurvived, on=['firstname', 'lastname'])\n",
    "df.head()"
   ]
  },
  {
   "cell_type": "markdown",
   "metadata": {},
   "source": [
    "## Analyses des données"
   ]
  },
  {
   "cell_type": "code",
   "execution_count": 128,
   "metadata": {},
   "outputs": [
    {
     "data": {
      "text/plain": [
       "<AxesSubplot:>"
      ]
     },
     "execution_count": 128,
     "metadata": {},
     "output_type": "execute_result"
    },
    {
     "data": {
      "image/png": "[encoded data removed]",
      "text/plain": [
       "<Figure size 1080x216 with 1 Axes>"
      ]
     },
     "metadata": {
      "needs_background": "light"
     },
     "output_type": "display_data"
    }
   ],
   "source": [
    "sns.heatmap(df.isnull(), cbar=False)"
   ]
  },
  {
   "cell_type": "code",
   "execution_count": 129,
   "metadata": {},
   "outputs": [
    {
     "data": {
      "text/html": [
       "<div>\n",
       "<style scoped>\n",
       "    .dataframe tbody tr th:only-of-type {\n",
       "        vertical-align: middle;\n",
       "    }\n",
       "\n",
       "    .dataframe tbody tr th {\n",
       "        vertical-align: top;\n",
       "    }\n",
       "\n",
       "    .dataframe thead th {\n",
       "        text-align: right;\n",
       "    }\n",
       "</style>\n",
       "<table border=\"1\" class=\"dataframe\">\n",
       "  <thead>\n",
       "    <tr style=\"text-align: right;\">\n",
       "      <th></th>\n",
       "      <th>boat</th>\n",
       "      <th>embarked</th>\n",
       "      <th>sex</th>\n",
       "      <th>firstname</th>\n",
       "      <th>lastname</th>\n",
       "      <th>ticket</th>\n",
       "    </tr>\n",
       "  </thead>\n",
       "  <tbody>\n",
       "    <tr>\n",
       "      <th>count</th>\n",
       "      <td>370</td>\n",
       "      <td>999</td>\n",
       "      <td>1320</td>\n",
       "      <td>1320</td>\n",
       "      <td>1320</td>\n",
       "      <td>1320</td>\n",
       "    </tr>\n",
       "    <tr>\n",
       "      <th>unique</th>\n",
       "      <td>73</td>\n",
       "      <td>179</td>\n",
       "      <td>2</td>\n",
       "      <td>1141</td>\n",
       "      <td>875</td>\n",
       "      <td>929</td>\n",
       "    </tr>\n",
       "    <tr>\n",
       "      <th>top</th>\n",
       "      <td>4</td>\n",
       "      <td>S</td>\n",
       "      <td>male</td>\n",
       "      <td>Mr. James</td>\n",
       "      <td>Kelly</td>\n",
       "      <td>CA. 2343</td>\n",
       "    </tr>\n",
       "    <tr>\n",
       "      <th>freq</th>\n",
       "      <td>32</td>\n",
       "      <td>498</td>\n",
       "      <td>849</td>\n",
       "      <td>15</td>\n",
       "      <td>11</td>\n",
       "      <td>11</td>\n",
       "    </tr>\n",
       "  </tbody>\n",
       "</table>\n",
       "</div>"
      ],
      "text/plain": [
       "       boat embarked   sex  firstname lastname    ticket\n",
       "count   370      999  1320       1320     1320      1320\n",
       "unique   73      179     2       1141      875       929\n",
       "top       4        S  male  Mr. James    Kelly  CA. 2343\n",
       "freq     32      498   849         15       11        11"
      ]
     },
     "execution_count": 129,
     "metadata": {},
     "output_type": "execute_result"
    }
   ],
   "source": [
    "#transformation des zone numériques (object -> int/float)\n",
    "df['pclass']=df['pclass'].astype(int)\n",
    "df['survived']= df['survived'].astype(int)\n",
    "df['parch']= df['parch'].astype(float)\n",
    "df['sibsp']= df['sibsp'].astype(float)\n",
    "df['age']= df['age'].astype(float)\n",
    "df.describe(include=['O'])"
   ]
  },
  {
   "cell_type": "code",
   "execution_count": 130,
   "metadata": {},
   "outputs": [
    {
     "data": {
      "text/html": [
       "<div>\n",
       "<style scoped>\n",
       "    .dataframe tbody tr th:only-of-type {\n",
       "        vertical-align: middle;\n",
       "    }\n",
       "\n",
       "    .dataframe tbody tr th {\n",
       "        vertical-align: top;\n",
       "    }\n",
       "\n",
       "    .dataframe thead th {\n",
       "        text-align: right;\n",
       "    }\n",
       "</style>\n",
       "<table border=\"1\" class=\"dataframe\">\n",
       "  <thead>\n",
       "    <tr style=\"text-align: right;\">\n",
       "      <th></th>\n",
       "      <th>pclass</th>\n",
       "      <th>survived</th>\n",
       "    </tr>\n",
       "  </thead>\n",
       "  <tbody>\n",
       "    <tr>\n",
       "      <th>0</th>\n",
       "      <td>1</td>\n",
       "      <td>0.618012</td>\n",
       "    </tr>\n",
       "    <tr>\n",
       "      <th>1</th>\n",
       "      <td>2</td>\n",
       "      <td>0.429603</td>\n",
       "    </tr>\n",
       "    <tr>\n",
       "      <th>2</th>\n",
       "      <td>3</td>\n",
       "      <td>0.255201</td>\n",
       "    </tr>\n",
       "  </tbody>\n",
       "</table>\n",
       "</div>"
      ],
      "text/plain": [
       "   pclass  survived\n",
       "0       1  0.618012\n",
       "1       2  0.429603\n",
       "2       3  0.255201"
      ]
     },
     "execution_count": 130,
     "metadata": {},
     "output_type": "execute_result"
    }
   ],
   "source": [
    "df[['pclass', 'survived']].groupby(['pclass'], as_index=False).mean().sort_values(by='survived', ascending=False)"
   ]
  },
  {
   "cell_type": "code",
   "execution_count": 131,
   "metadata": {},
   "outputs": [
    {
     "data": {
      "text/html": [
       "<div>\n",
       "<style scoped>\n",
       "    .dataframe tbody tr th:only-of-type {\n",
       "        vertical-align: middle;\n",
       "    }\n",
       "\n",
       "    .dataframe tbody tr th {\n",
       "        vertical-align: top;\n",
       "    }\n",
       "\n",
       "    .dataframe thead th {\n",
       "        text-align: right;\n",
       "    }\n",
       "</style>\n",
       "<table border=\"1\" class=\"dataframe\">\n",
       "  <thead>\n",
       "    <tr style=\"text-align: right;\">\n",
       "      <th></th>\n",
       "      <th>sex</th>\n",
       "      <th>survived</th>\n",
       "    </tr>\n",
       "  </thead>\n",
       "  <tbody>\n",
       "    <tr>\n",
       "      <th>0</th>\n",
       "      <td>female</td>\n",
       "      <td>0.723992</td>\n",
       "    </tr>\n",
       "    <tr>\n",
       "      <th>1</th>\n",
       "      <td>male</td>\n",
       "      <td>0.189635</td>\n",
       "    </tr>\n",
       "  </tbody>\n",
       "</table>\n",
       "</div>"
      ],
      "text/plain": [
       "      sex  survived\n",
       "0  female  0.723992\n",
       "1    male  0.189635"
      ]
     },
     "execution_count": 131,
     "metadata": {},
     "output_type": "execute_result"
    }
   ],
   "source": [
    "df[[\"sex\", \"survived\"]].groupby(['sex'], as_index=False).mean().sort_values(by='survived', ascending=False)"
   ]
  },
  {
   "cell_type": "code",
   "execution_count": 132,
   "metadata": {},
   "outputs": [
    {
     "data": {
      "text/html": [
       "<div>\n",
       "<style scoped>\n",
       "    .dataframe tbody tr th:only-of-type {\n",
       "        vertical-align: middle;\n",
       "    }\n",
       "\n",
       "    .dataframe tbody tr th {\n",
       "        vertical-align: top;\n",
       "    }\n",
       "\n",
       "    .dataframe thead th {\n",
       "        text-align: right;\n",
       "    }\n",
       "</style>\n",
       "<table border=\"1\" class=\"dataframe\">\n",
       "  <thead>\n",
       "    <tr style=\"text-align: right;\">\n",
       "      <th></th>\n",
       "      <th>sibsp</th>\n",
       "      <th>survived</th>\n",
       "    </tr>\n",
       "  </thead>\n",
       "  <tbody>\n",
       "    <tr>\n",
       "      <th>1</th>\n",
       "      <td>1.0</td>\n",
       "      <td>0.509434</td>\n",
       "    </tr>\n",
       "    <tr>\n",
       "      <th>2</th>\n",
       "      <td>2.0</td>\n",
       "      <td>0.452381</td>\n",
       "    </tr>\n",
       "    <tr>\n",
       "      <th>0</th>\n",
       "      <td>0.0</td>\n",
       "      <td>0.345515</td>\n",
       "    </tr>\n",
       "    <tr>\n",
       "      <th>3</th>\n",
       "      <td>3.0</td>\n",
       "      <td>0.300000</td>\n",
       "    </tr>\n",
       "    <tr>\n",
       "      <th>4</th>\n",
       "      <td>4.0</td>\n",
       "      <td>0.136364</td>\n",
       "    </tr>\n",
       "    <tr>\n",
       "      <th>5</th>\n",
       "      <td>5.0</td>\n",
       "      <td>0.000000</td>\n",
       "    </tr>\n",
       "    <tr>\n",
       "      <th>6</th>\n",
       "      <td>8.0</td>\n",
       "      <td>0.000000</td>\n",
       "    </tr>\n",
       "  </tbody>\n",
       "</table>\n",
       "</div>"
      ],
      "text/plain": [
       "   sibsp  survived\n",
       "1    1.0  0.509434\n",
       "2    2.0  0.452381\n",
       "0    0.0  0.345515\n",
       "3    3.0  0.300000\n",
       "4    4.0  0.136364\n",
       "5    5.0  0.000000\n",
       "6    8.0  0.000000"
      ]
     },
     "execution_count": 132,
     "metadata": {},
     "output_type": "execute_result"
    }
   ],
   "source": [
    "df[[\"sibsp\", \"survived\"]].groupby(['sibsp'], as_index=False).mean().sort_values(by='survived', ascending=False)"
   ]
  },
  {
   "cell_type": "code",
   "execution_count": 133,
   "metadata": {},
   "outputs": [
    {
     "data": {
      "text/html": [
       "<div>\n",
       "<style scoped>\n",
       "    .dataframe tbody tr th:only-of-type {\n",
       "        vertical-align: middle;\n",
       "    }\n",
       "\n",
       "    .dataframe tbody tr th {\n",
       "        vertical-align: top;\n",
       "    }\n",
       "\n",
       "    .dataframe thead th {\n",
       "        text-align: right;\n",
       "    }\n",
       "</style>\n",
       "<table border=\"1\" class=\"dataframe\">\n",
       "  <thead>\n",
       "    <tr style=\"text-align: right;\">\n",
       "      <th></th>\n",
       "      <th>parch</th>\n",
       "      <th>survived</th>\n",
       "    </tr>\n",
       "  </thead>\n",
       "  <tbody>\n",
       "    <tr>\n",
       "      <th>3</th>\n",
       "      <td>3.0</td>\n",
       "      <td>0.625000</td>\n",
       "    </tr>\n",
       "    <tr>\n",
       "      <th>1</th>\n",
       "      <td>1.0</td>\n",
       "      <td>0.588235</td>\n",
       "    </tr>\n",
       "    <tr>\n",
       "      <th>2</th>\n",
       "      <td>2.0</td>\n",
       "      <td>0.504425</td>\n",
       "    </tr>\n",
       "    <tr>\n",
       "      <th>0</th>\n",
       "      <td>0.0</td>\n",
       "      <td>0.333662</td>\n",
       "    </tr>\n",
       "    <tr>\n",
       "      <th>4</th>\n",
       "      <td>4.0</td>\n",
       "      <td>0.166667</td>\n",
       "    </tr>\n",
       "    <tr>\n",
       "      <th>5</th>\n",
       "      <td>5.0</td>\n",
       "      <td>0.166667</td>\n",
       "    </tr>\n",
       "    <tr>\n",
       "      <th>6</th>\n",
       "      <td>6.0</td>\n",
       "      <td>0.000000</td>\n",
       "    </tr>\n",
       "    <tr>\n",
       "      <th>7</th>\n",
       "      <td>9.0</td>\n",
       "      <td>0.000000</td>\n",
       "    </tr>\n",
       "  </tbody>\n",
       "</table>\n",
       "</div>"
      ],
      "text/plain": [
       "   parch  survived\n",
       "3    3.0  0.625000\n",
       "1    1.0  0.588235\n",
       "2    2.0  0.504425\n",
       "0    0.0  0.333662\n",
       "4    4.0  0.166667\n",
       "5    5.0  0.166667\n",
       "6    6.0  0.000000\n",
       "7    9.0  0.000000"
      ]
     },
     "execution_count": 133,
     "metadata": {},
     "output_type": "execute_result"
    }
   ],
   "source": [
    "df[[\"parch\", \"survived\"]].groupby(['parch'], as_index=False).mean().sort_values(by='survived', ascending=False)"
   ]
  },
  {
   "cell_type": "code",
   "execution_count": 134,
   "metadata": {},
   "outputs": [
    {
     "data": {
      "image/png": "[encoded data removed]",
      "text/plain": [
       "<Figure size 1080x216 with 1 Axes>"
      ]
     },
     "metadata": {
      "needs_background": "light"
     },
     "output_type": "display_data"
    }
   ],
   "source": [
    "plt.rcParams[\"figure.figsize\"] = (15,3)\n",
    "#nombre de personnes en vie/morte suivant leur ages\n",
    "df.loc[df[\"survived\"] == 1,\"age\"].hist(alpha = 0.7,fill=False, histtype='step',linewidth=5);\n",
    "df.loc[df[\"survived\"] == 0,\"age\"].hist(alpha = 0.7,fill=False, histtype='step',linewidth=5).legend([\"Survived\",\"Died\"]);"
   ]
  },
  {
   "cell_type": "code",
   "execution_count": 135,
   "metadata": {},
   "outputs": [
    {
     "data": {
      "image/png": "[encoded data removed]",
      "text/plain": [
       "<Figure size 1080x216 with 1 Axes>"
      ]
     },
     "metadata": {
      "needs_background": "light"
     },
     "output_type": "display_data"
    }
   ],
   "source": [
    "plt.rcParams[\"figure.figsize\"] = (15,3)\n",
    "#nombre de personnes en vie/morte suivant leur embarcation (pas pertinent mais par curiosité)\n",
    "df.loc[df[\"embarked\"] == 'S',\"survived\"].hist(alpha = 0.7,fill=False,range = (0, 1),bins = 2, histtype='step',linewidth=5);\n",
    "df.loc[df[\"embarked\"] == 'C',\"survived\"].hist(alpha = 0.7,fill=False,range = (0, 1),bins = 2, histtype='step',linewidth=5);\n",
    "df.loc[df[\"embarked\"] == 'Q',\"survived\"].hist(alpha = 0.7,fill=False,range = (0, 1),bins = 2, histtype='step',linewidth=5);"
   ]
  },
  {
   "cell_type": "code",
   "execution_count": 136,
   "metadata": {},
   "outputs": [
    {
     "data": {
      "image/png": "[encoded data removed]",
      "text/plain": [
       "<Figure size 514.88x475.2 with 6 Axes>"
      ]
     },
     "metadata": {
      "needs_background": "light"
     },
     "output_type": "display_data"
    }
   ],
   "source": [
    "grid = sns.FacetGrid(df, col='survived', row='pclass', height=2.2, aspect=1.6)\n",
    "grid.map(plt.hist, 'age', alpha=.5, bins=20)\n",
    "grid.add_legend();"
   ]
  },
  {
   "cell_type": "markdown",
   "metadata": {},
   "source": [
    "Pour la classification il faut :\n",
    "    numéroter les age selon une periode ex : [0,5] = 1  [5,10]=2 ....\n",
    "    numéroter les fare selon une tranche de prix\n",
    "    attribuer un chiffre a chaque lettre de embarked\n",
    "    attribuer un chiffe a chaque sex\n",
    "    attribuer un chiffre pour la partie nom:\n",
    "        On peut s'intéresser uniquement au nom de famille a qui on attribut un chiffre\n",
    "        On  peut s'intéresser uniquement à la classe sociale \"miss\" , \"mister\"..\n",
    "    s'interesser au sibsp, parch de façons différente\n",
    "        seulement notifier si la personne est seul\n",
    "        additionner les deux et faire une tranche 0 = 0  [1,3] = 1, [4,6]=2 ...."
   ]
  },
  {
   "cell_type": "markdown",
   "metadata": {},
   "source": [
    "## transformation des données"
   ]
  },
  {
   "cell_type": "code",
   "execution_count": 137,
   "metadata": {},
   "outputs": [],
   "source": [
    "def get_title(string):\n",
    "    import re\n",
    "    regex = re.compile(r'Mr|Don|Major|Capt|Jonkheer|Rev|Col|Dr|Mrs|Countess|Dona|Mme|Ms|Miss|Mlle|Master', re.IGNORECASE)\n",
    "    results = regex.search(string)\n",
    "    if results != None:\n",
    "        return(results.group().lower())\n",
    "    else:\n",
    "        return(str(np.nan))\n",
    "    \n",
    "title_dictionary = {\n",
    "    \"capt\":\"Officer\", \n",
    "    \"col\":\"Officer\", \n",
    "    \"major\":\"Officer\", \n",
    "    \"dr\":\"Officer\",\n",
    "    \"jonkheer\":\"Royalty\",\n",
    "    \"rev\":\"Officer\",\n",
    "    \"countess\":\"Royalty\",\n",
    "    \"dona\":\"Royalty\",\n",
    "    \"lady\":\"Royalty\",\n",
    "    \"don\":\"Royalty\",\n",
    "    \"mr\":\"Mr\",\n",
    "    \"mme\":\"Mrs\",\n",
    "    \"ms\":\"Mrs\",\n",
    "    \"mrs\":\"Mrs\",\n",
    "    \"miss\":\"Miss\",\n",
    "    \"mlle\":\"Miss\",\n",
    "    \"master\":\"Master\",\n",
    "    \"nan\":\"Mr\"\n",
    "}\n",
    "\n",
    "\n",
    "\n",
    "#si il n'y as pas l'age on met le median selon son titre\n",
    "title_list = ['Mr','Miss','Mrs','Master', 'Royalty', 'Officer']\n",
    "def age_nan_replace(means, dframe, title_list):\n",
    "    for title in title_list:\n",
    "        temp = dframe['title'] == title #extract indices of samples with same title\n",
    "        dframe.loc[temp, 'age'] = dframe.loc[temp, 'age'].fillna(means[title]) # replace nan values for mean\n"
   ]
  },
  {
   "cell_type": "code",
   "execution_count": 138,
   "metadata": {},
   "outputs": [
    {
     "data": {
      "text/html": [
       "<div>\n",
       "<style scoped>\n",
       "    .dataframe tbody tr th:only-of-type {\n",
       "        vertical-align: middle;\n",
       "    }\n",
       "\n",
       "    .dataframe tbody tr th {\n",
       "        vertical-align: top;\n",
       "    }\n",
       "\n",
       "    .dataframe thead th {\n",
       "        text-align: right;\n",
       "    }\n",
       "</style>\n",
       "<table border=\"1\" class=\"dataframe\">\n",
       "  <thead>\n",
       "    <tr style=\"text-align: right;\">\n",
       "      <th></th>\n",
       "      <th>age</th>\n",
       "      <th>survived</th>\n",
       "      <th>fsize</th>\n",
       "      <th>title</th>\n",
       "      <th>1</th>\n",
       "      <th>2</th>\n",
       "      <th>3</th>\n",
       "      <th>female</th>\n",
       "      <th>male</th>\n",
       "    </tr>\n",
       "  </thead>\n",
       "  <tbody>\n",
       "    <tr>\n",
       "      <th>0</th>\n",
       "      <td>33.412385</td>\n",
       "      <td>0</td>\n",
       "      <td>1.0</td>\n",
       "      <td>Mr</td>\n",
       "      <td>0</td>\n",
       "      <td>0</td>\n",
       "      <td>1</td>\n",
       "      <td>0</td>\n",
       "      <td>1</td>\n",
       "    </tr>\n",
       "    <tr>\n",
       "      <th>1</th>\n",
       "      <td>8.000000</td>\n",
       "      <td>0</td>\n",
       "      <td>4.0</td>\n",
       "      <td>Miss</td>\n",
       "      <td>0</td>\n",
       "      <td>0</td>\n",
       "      <td>1</td>\n",
       "      <td>1</td>\n",
       "      <td>0</td>\n",
       "    </tr>\n",
       "    <tr>\n",
       "      <th>2</th>\n",
       "      <td>22.000000</td>\n",
       "      <td>1</td>\n",
       "      <td>0.0</td>\n",
       "      <td>Miss</td>\n",
       "      <td>1</td>\n",
       "      <td>0</td>\n",
       "      <td>0</td>\n",
       "      <td>1</td>\n",
       "      <td>0</td>\n",
       "    </tr>\n",
       "    <tr>\n",
       "      <th>3</th>\n",
       "      <td>24.000000</td>\n",
       "      <td>1</td>\n",
       "      <td>3.0</td>\n",
       "      <td>Miss</td>\n",
       "      <td>0</td>\n",
       "      <td>1</td>\n",
       "      <td>0</td>\n",
       "      <td>1</td>\n",
       "      <td>0</td>\n",
       "    </tr>\n",
       "    <tr>\n",
       "      <th>4</th>\n",
       "      <td>20.000000</td>\n",
       "      <td>0</td>\n",
       "      <td>0.0</td>\n",
       "      <td>Mr</td>\n",
       "      <td>0</td>\n",
       "      <td>0</td>\n",
       "      <td>1</td>\n",
       "      <td>0</td>\n",
       "      <td>1</td>\n",
       "    </tr>\n",
       "  </tbody>\n",
       "</table>\n",
       "</div>"
      ],
      "text/plain": [
       "         age  survived  fsize title  1  2  3  female  male\n",
       "0  33.412385         0    1.0    Mr  0  0  1       0     1\n",
       "1   8.000000         0    4.0  Miss  0  0  1       1     0\n",
       "2  22.000000         1    0.0  Miss  1  0  0       1     0\n",
       "3  24.000000         1    3.0  Miss  0  1  0       1     0\n",
       "4  20.000000         0    0.0    Mr  0  0  1       0     1"
      ]
     },
     "execution_count": 138,
     "metadata": {},
     "output_type": "execute_result"
    }
   ],
   "source": [
    "#embarked/boat/lastname/ticket n'est pas très pertinent\n",
    "df = df.drop(columns=['embarked'])\n",
    "df = df.drop(columns=['boat'])\n",
    "df = df.drop(columns=['lastname'])\n",
    "df = df.drop(columns=['ticket'])\n",
    "\n",
    "#addition de la famille et suppression de parch et sibsp\n",
    "df[\"fsize\"]= df.apply(lambda x: x.sibsp+x.parch, axis=1)\n",
    "df = df.drop(columns=['parch', 'sibsp'])\n",
    "\n",
    "\n",
    "#ajout titre\n",
    "df[\"title\"] = df[\"firstname\"].apply(get_title)\n",
    "#mapping titre\n",
    "df[\"title\"]  = df[\"title\"].map(title_dictionary)\n",
    "means_title = df.groupby('title')[\"age\"].mean()\n",
    "#age selon la moyenne par title\n",
    "age_nan_replace(means_title, df, title_list)\n",
    "\n",
    "\n",
    "\n",
    "dummies = []\n",
    "cols = ['pclass', 'sex']\n",
    "for col in cols:\n",
    "    dummies.append(pd.get_dummies(df[col]))\n",
    "titanic_dummies = pd.concat(dummies, axis=1)\n",
    "df = pd.concat((df,titanic_dummies), axis=1)\n",
    "\n",
    "df = df.drop(columns=['sex'])\n",
    "df = df.drop(columns=['firstname'])\n",
    "df = df.drop(columns=['pclass'])\n",
    "\n",
    "df.head()"
   ]
  },
  {
   "cell_type": "code",
   "execution_count": 139,
   "metadata": {},
   "outputs": [],
   "source": [
    "\n",
    "\n",
    "from sklearn.preprocessing import StandardScaler\n",
    "\n",
    "numericals_list = ['age']\n",
    "for column in numericals_list:\n",
    "    sc = StandardScaler(with_mean=True, with_std=True)\n",
    "#    print(training_set[column].size)\n",
    "#    print(test_set[column].size)\n",
    "    sc.fit(df[column].values.reshape(-1,1))\n",
    "    df[column] = sc.transform(df[column].values.reshape(-1,1))\n",
    "\n",
    "\n",
    "\n",
    "\n",
    "from sklearn.preprocessing import LabelEncoder\n",
    "categorical_classes_list = ['title'] #Pclass is already encoded\n",
    "#encode features that are cateorical classes\n",
    "encoding_list = []\n",
    "for column in categorical_classes_list:\n",
    "    le = LabelEncoder()\n",
    "    le.fit(df[column])\n",
    "    encoding_list.append(df[column].unique())\n",
    "    df[column] = le.transform(df[column])\n",
    "\n"
   ]
  },
  {
   "cell_type": "code",
   "execution_count": 140,
   "metadata": {},
   "outputs": [
    {
     "data": {
      "text/html": [
       "<div>\n",
       "<style scoped>\n",
       "    .dataframe tbody tr th:only-of-type {\n",
       "        vertical-align: middle;\n",
       "    }\n",
       "\n",
       "    .dataframe tbody tr th {\n",
       "        vertical-align: top;\n",
       "    }\n",
       "\n",
       "    .dataframe thead th {\n",
       "        text-align: right;\n",
       "    }\n",
       "</style>\n",
       "<table border=\"1\" class=\"dataframe\">\n",
       "  <thead>\n",
       "    <tr style=\"text-align: right;\">\n",
       "      <th></th>\n",
       "      <th>age</th>\n",
       "      <th>survived</th>\n",
       "      <th>fsize</th>\n",
       "      <th>title</th>\n",
       "      <th>1</th>\n",
       "      <th>2</th>\n",
       "      <th>3</th>\n",
       "      <th>female</th>\n",
       "      <th>male</th>\n",
       "    </tr>\n",
       "  </thead>\n",
       "  <tbody>\n",
       "    <tr>\n",
       "      <th>0</th>\n",
       "      <td>0.261572</td>\n",
       "      <td>0</td>\n",
       "      <td>1.0</td>\n",
       "      <td>2</td>\n",
       "      <td>0</td>\n",
       "      <td>0</td>\n",
       "      <td>1</td>\n",
       "      <td>0</td>\n",
       "      <td>1</td>\n",
       "    </tr>\n",
       "    <tr>\n",
       "      <th>1</th>\n",
       "      <td>-1.673109</td>\n",
       "      <td>0</td>\n",
       "      <td>4.0</td>\n",
       "      <td>1</td>\n",
       "      <td>0</td>\n",
       "      <td>0</td>\n",
       "      <td>1</td>\n",
       "      <td>1</td>\n",
       "      <td>0</td>\n",
       "    </tr>\n",
       "    <tr>\n",
       "      <th>2</th>\n",
       "      <td>-0.607269</td>\n",
       "      <td>1</td>\n",
       "      <td>0.0</td>\n",
       "      <td>1</td>\n",
       "      <td>1</td>\n",
       "      <td>0</td>\n",
       "      <td>0</td>\n",
       "      <td>1</td>\n",
       "      <td>0</td>\n",
       "    </tr>\n",
       "    <tr>\n",
       "      <th>3</th>\n",
       "      <td>-0.455006</td>\n",
       "      <td>1</td>\n",
       "      <td>3.0</td>\n",
       "      <td>1</td>\n",
       "      <td>0</td>\n",
       "      <td>1</td>\n",
       "      <td>0</td>\n",
       "      <td>1</td>\n",
       "      <td>0</td>\n",
       "    </tr>\n",
       "    <tr>\n",
       "      <th>4</th>\n",
       "      <td>-0.759532</td>\n",
       "      <td>0</td>\n",
       "      <td>0.0</td>\n",
       "      <td>2</td>\n",
       "      <td>0</td>\n",
       "      <td>0</td>\n",
       "      <td>1</td>\n",
       "      <td>0</td>\n",
       "      <td>1</td>\n",
       "    </tr>\n",
       "  </tbody>\n",
       "</table>\n",
       "</div>"
      ],
      "text/plain": [
       "        age  survived  fsize  title  1  2  3  female  male\n",
       "0  0.261572         0    1.0      2  0  0  1       0     1\n",
       "1 -1.673109         0    4.0      1  0  0  1       1     0\n",
       "2 -0.607269         1    0.0      1  1  0  0       1     0\n",
       "3 -0.455006         1    3.0      1  0  1  0       1     0\n",
       "4 -0.759532         0    0.0      2  0  0  1       0     1"
      ]
     },
     "execution_count": 140,
     "metadata": {},
     "output_type": "execute_result"
    }
   ],
   "source": [
    "df.head()"
   ]
  },
  {
   "cell_type": "code",
   "execution_count": 141,
   "metadata": {},
   "outputs": [],
   "source": [
    "df.to_csv('titanic.preprocessing.csv', index=False)"
   ]
  },
  {
   "cell_type": "code",
   "execution_count": 142,
   "metadata": {},
   "outputs": [],
   "source": [
    "df = pd.read_csv(\"titanic.preprocessing.csv\")\n",
    "\n",
    "y = df['survived'].values\n",
    "X = df.drop(['survived'], axis=1).values"
   ]
  },
  {
   "cell_type": "code",
   "execution_count": 143,
   "metadata": {},
   "outputs": [],
   "source": [
    "from sklearn.naive_bayes import GaussianNB\n",
    "import re\n",
    "import pandas as pd\n",
    "import numpy as np\n",
    "import itertools\n",
    "import string\n",
    "\n",
    "from sklearn.datasets import make_hastie_10_2, make_classification\n",
    "from sklearn.discriminant_analysis import LinearDiscriminantAnalysis\n",
    "from sklearn.ensemble import AdaBoostClassifier , GradientBoostingClassifier, RandomForestClassifier\n",
    "from sklearn.feature_extraction.text import CountVectorizer, TfidfVectorizer\n",
    "from sklearn.linear_model import LogisticRegression\n",
    "from sklearn.metrics import accuracy_score\n",
    "from sklearn.metrics import confusion_matrix\n",
    "from sklearn.metrics import classification_report\n",
    "from sklearn.model_selection import cross_val_predict, KFold, cross_val_score, train_test_split, RepeatedKFold\n",
    "from sklearn.naive_bayes import GaussianNB, MultinomialNB\n",
    "from sklearn.neighbors import KNeighborsClassifier\n",
    "from sklearn.svm import LinearSVC, SVC\n",
    "from sklearn.tree import DecisionTreeRegressor\n",
    "from sklearn.utils import resample\n",
    "\n",
    "# evaluate a logistic regression model using repeated k-fold cross-validation\n",
    "from numpy import mean\n",
    "from numpy import std\n",
    "import time\n",
    "models = []\n",
    "models.append(('LR', LogisticRegression()))\n",
    "models.append(('MLR',LogisticRegression(multi_class='multinomial',solver ='newton-cg')))\n",
    "models.append(('KNN', KNeighborsClassifier()))\n",
    "models.append(('SVC', SVC(gamma='auto')))\n",
    "models.append(('LSVC', LinearSVC(max_iter=3000)))\n",
    "\n",
    "from sklearn.metrics import auc, accuracy_score, confusion_matrix, mean_squared_error\n",
    "kfold = RepeatedKFold(n_splits=10,n_repeats=3, random_state=7)"
   ]
  },
  {
   "cell_type": "code",
   "execution_count": 144,
   "metadata": {},
   "outputs": [
    {
     "name": "stdout",
     "output_type": "stream",
     "text": [
      "Time pour MNB   0.07525300979614258\n",
      "MNB: nan (nan)\n",
      "Time pour LR   0.5677506923675537\n",
      "LR: 0.781566 (0.025056)\n",
      "Time pour MLR   0.5716397762298584\n",
      "MLR: 0.779798 (0.026600)\n",
      "Time pour KNN   0.21726202964782715\n",
      "KNN: 0.772475 (0.031751)\n",
      "Time pour SVC   1.1516120433807373\n",
      "SVC: 0.812374 (0.031582)\n",
      "Time pour LSVC   2.4041669368743896\n",
      "LSVC: 0.786869 (0.027085)\n"
     ]
    }
   ],
   "source": [
    "import warnings\n",
    "warnings.filterwarnings('ignore')\n",
    "\n",
    "from sklearn.metrics import confusion_matrix\n",
    "from sklearn.metrics import classification_report\n",
    "from sklearn.model_selection import KFold\n",
    "from sklearn.model_selection import cross_val_score\n",
    "import time\n",
    "seed = 7\n",
    "results = []\n",
    "names = []\n",
    "scoring='accuracy'\n",
    "\n",
    "for name,model in models:\n",
    "    start_time = time.time()\n",
    "    cv_results = cross_val_score(model,X, y, cv=kfold, scoring=scoring)\n",
    "    print (\"Time pour\",name,\" \",time.time() - start_time)\n",
    "    results.append(cv_results)\n",
    "    names.append(name )\n",
    "    msg = \"%s: %f (%f)\" % (name, cv_results.mean(), cv_results.std())\n",
    "    print(msg)    \n",
    "    \n",
    "\n"
   ]
  },
  {
   "cell_type": "code",
   "execution_count": 145,
   "metadata": {},
   "outputs": [
    {
     "data": {
      "text/plain": [
       "[Text(1, 0, 'MNB_mic'),\n",
       " Text(2, 0, 'LR_mic'),\n",
       " Text(3, 0, 'MLR_mic'),\n",
       " Text(4, 0, 'KNN_mic'),\n",
       " Text(5, 0, 'SVC_mic'),\n",
       " Text(6, 0, 'LSVC_mic')]"
      ]
     },
     "execution_count": 145,
     "metadata": {},
     "output_type": "execute_result"
    },
    {
     "data": {
      "image/png": "[encoded data removed]",
      "text/plain": [
       "<Figure size 800x480 with 1 Axes>"
      ]
     },
     "metadata": {
      "needs_background": "light"
     },
     "output_type": "display_data"
    }
   ],
   "source": [
    "import warnings\n",
    "warnings.filterwarnings('ignore')\n",
    "\n",
    "fig = plt.figure(figsize=(10, 6), dpi=80)\n",
    "fig.suptitle('Comparaison des résultats')\n",
    "plt.ylabel('Accuracy')\n",
    "plt.xlabel('Modèles')\n",
    "ax = fig.add_subplot(111)\n",
    "plt.boxplot(results,showfliers=False)\n",
    "ax.set_xticklabels(names)"
   ]
  },
  {
   "cell_type": "code",
   "execution_count": null,
   "metadata": {},
   "outputs": [],
   "source": []
  }
 ],
 "metadata": {
  "kernelspec": {
   "display_name": "Python 3",
   "language": "python",
   "name": "python3"
  },
  "language_info": {
   "codemirror_mode": {
    "name": "ipython",
    "version": 3
   },
   "file_extension": ".py",
   "mimetype": "text/x-python",
   "name": "python",
   "nbconvert_exporter": "python",
   "pygments_lexer": "ipython3",
   "version": "3.8.5"
  }
 },
 "nbformat": 4,
 "nbformat_minor": 5
}
